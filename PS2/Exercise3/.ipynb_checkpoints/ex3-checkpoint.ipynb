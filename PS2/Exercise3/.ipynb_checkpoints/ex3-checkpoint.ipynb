{
 "cells": [
  {
   "cell_type": "code",
   "execution_count": 24,
   "metadata": {
    "collapsed": false
   },
   "outputs": [],
   "source": [
    "import sys\n",
    "import os\n",
    "import argparse\n",
    "import numpy as np\n",
    "import pandas as pd\n",
    "\n",
    "from scipy.stats import ttest_ind\n",
    "from sklearn.svm import SVC\n",
    "from sklearn.decomposition import PCA\n",
    "from matplotlib import pyplot as plt\n",
    "\n",
    "from sklearn.cluster import KMeans\n",
    "\n",
    "input_filename = \"log_transformed_and_standardized_expr.txt\"\n",
    "labels_filename = \"phen.txt\"\n",
    "output_filename = \"ex3-2.txt\"\n",
    "\n",
    "data = pd.read_csv(input_filename, delimiter='\\t', index_col='EnsemblID')\n",
    "\n",
    "data = data.T \n",
    "\n",
    "n_samples = len(data)\n",
    "labels = np.zeros((n_samples,))\n",
    "labels_file = open(labels_filename, 'r')\n",
    "count = -1\n",
    "for line in labels_file:\n",
    "    if count == -1:\n",
    "        count += 1\n",
    "        continue\n",
    "    tokens = line.rstrip('\\n').split('\\t')\n",
    "    labels[count] = tokens[1]\n",
    "    count += 1\n",
    "    \n",
    "pca = PCA(n_components=2)\n",
    "\n",
    "pca.fit(data)\n",
    "\n",
    "components = pca.components_\n",
    "explained_var = pca.explained_variance_ratio_"
   ]
  },
  {
   "cell_type": "code",
   "execution_count": 25,
   "metadata": {
    "collapsed": false
   },
   "outputs": [],
   "source": [
    "zeros = []\n",
    "ones = []\n",
    "for i in range(n_samples):\n",
    "    if labels[i] == 0:\n",
    "        zeros.append(i)\n",
    "    else:\n",
    "        ones.append(i)"
   ]
  },
  {
   "cell_type": "code",
   "execution_count": 16,
   "metadata": {
    "collapsed": false
   },
   "outputs": [],
   "source": [
    "projection = data.as_matrix().dot(components.T)"
   ]
  },
  {
   "cell_type": "code",
   "execution_count": 30,
   "metadata": {
    "collapsed": false
   },
   "outputs": [
    {
     "data": {
      "image/png": "[encoded data removed]",
      "text/plain": [
       "<matplotlib.figure.Figure at 0x1156fa310>"
      ]
     },
     "metadata": {},
     "output_type": "display_data"
    }
   ],
   "source": [
    "plt.figure()\n",
    "plt.scatter(projection[zeros, 0], projection[zeros, 1], c='b')\n",
    "plt.scatter(projection[ones, 0], projection[ones, 1], c='m')\n",
    "plt.xlabel(\"PC 1\")\n",
    "plt.ylabel(\"PC 2\")\n",
    "plt.legend([\"Normal\", \"Disease\"])\n",
    "plt.savefig('ex3-3.png', dpi=200)\n",
    "plt.show()"
   ]
  },
  {
   "cell_type": "code",
   "execution_count": 31,
   "metadata": {
    "collapsed": true
   },
   "outputs": [],
   "source": [
    "pca = PCA(n_components=10)\n",
    "\n",
    "pca.fit(data)\n",
    "\n",
    "components = pca.components_\n",
    "explained_var = pca.explained_variance_ratio_"
   ]
  },
  {
   "cell_type": "code",
   "execution_count": 34,
   "metadata": {
    "collapsed": false
   },
   "outputs": [],
   "source": [
    "covariates_filename = \"cov.txt\"\n",
    "cov = pd.read_csv(covariates_filename, delimiter='\\t', index_col=\"Sample_title\")"
   ]
  },
  {
   "cell_type": "code",
   "execution_count": 35,
   "metadata": {
    "collapsed": true
   },
   "outputs": [],
   "source": [
    "from scipy.stats import pearsonr"
   ]
  },
  {
   "cell_type": "code",
   "execution_count": 58,
   "metadata": {
    "collapsed": false
   },
   "outputs": [],
   "source": [
    "output34_filename = \"corr.txt\"\n",
    "\n",
    "corr_matrix = np.zeros((10, 3))\n",
    "p_matrix = np.zeros((10, 3))\n",
    "\n",
    "projection = data.as_matrix().dot(components.T)\n",
    "\n",
    "for i in range(10):\n",
    "    for j in range(3):\n",
    "        corr, p = pearsonr(projection[:, i], cov.iloc[j])\n",
    "        corr_matrix[i, j] = corr\n",
    "        p_matrix[i, j] = p\n",
    "np.savetxt(\"cov_corr.txt\", corr_matrix, delimiter='\\t')\n",
    "np.savetxt(\"cov_pvalue.txt\", p_matrix, delimiter='\\t')"
   ]
  },
  {
   "cell_type": "code",
   "execution_count": 63,
   "metadata": {
    "collapsed": false
   },
   "outputs": [],
   "source": [
    "ex35_output = open(\"ex3-5.txt\", 'w')\n",
    "ex35_output.write(\"pearson_corr\\tp_value\\n\")\n",
    "for j in range(3):\n",
    "    corr, p = pearsonr(labels, cov.iloc[j])\n",
    "    ex35_output.write(\"%f\\t%f\\n\" %(corr, p))\n",
    "ex35_output.close()"
   ]
  },
  {
   "cell_type": "code",
   "execution_count": 68,
   "metadata": {
    "collapsed": false,
    "scrolled": false
   },
   "outputs": [],
   "source": [
    "from scipy.stats import ttest_ind\n",
    "data = data.T\n",
    "n_genes = len(data)\n",
    "sig_genes = []\n",
    "sig_pvalues = []\n",
    "for i in range(n_genes):\n",
    "    gene = data.iloc[i]\n",
    "    normal_expr = gene[zeros]\n",
    "    disease_expr = gene[ones]\n",
    "    t, pvalue = ttest_ind(normal_expr, disease_expr)\n",
    "    if pvalue < 0.05:\n",
    "        sig_genes.append(i)\n",
    "        sig_pvalues.append(pvalue)"
   ]
  },
  {
   "cell_type": "code",
   "execution_count": 74,
   "metadata": {
    "collapsed": true
   },
   "outputs": [],
   "source": [
    "sig_genes = np.array(sig_genes)\n",
    "sig_pvalues = np.array(sig_pvalues)"
   ]
  },
  {
   "cell_type": "code",
   "execution_count": 69,
   "metadata": {
    "collapsed": false
   },
   "outputs": [
    {
     "data": {
      "text/plain": [
       "array([3589, 1915,  997, ...,  646, 5918, 2576])"
      ]
     },
     "execution_count": 69,
     "metadata": {},
     "output_type": "execute_result"
    }
   ],
   "source": [
    "bh_sorting_index = np.argsort(sig_pvalues)\n",
    "bh_sorting_index"
   ]
  },
  {
   "cell_type": "code",
   "execution_count": 75,
   "metadata": {
    "collapsed": false
   },
   "outputs": [
    {
     "data": {
      "text/plain": [
       "array([  1.43680832e-10,   6.29063372e-10,   1.60029739e-09, ...,\n",
       "         4.99323552e-02,   4.99335787e-02,   4.99920807e-02])"
      ]
     },
     "execution_count": 75,
     "metadata": {},
     "output_type": "execute_result"
    }
   ],
   "source": [
    "sig_pvalues[bh_sorting_index]"
   ]
  },
  {
   "cell_type": "code",
   "execution_count": 90,
   "metadata": {
    "collapsed": false
   },
   "outputs": [
    {
     "name": "stdout",
     "output_type": "stream",
     "text": [
      "(0.014226393629124005, 0.0048015760187469112)\n",
      "(0.0142292377701934, 0.004801902906480097)\n",
      "(0.014232081911262798, 0.0048032603306455276)\n",
      "(0.014234926052332196, 0.0048093415737620725)\n",
      "(0.014237770193401592, 0.0048176288927355955)\n",
      "(0.01424061433447099, 0.0048192161896049197)\n",
      "(0.014243458475540389, 0.0048344829271707909)\n",
      "(0.014246302616609786, 0.004834704389708299)\n",
      "(0.014249146757679182, 0.0048356099531567899)\n",
      "(0.01425199089874858, 0.0048402225000499493)\n",
      "(0.014254835039817976, 0.0048410351352174462)\n",
      "(0.014257679180887373, 0.0048421552821297405)\n",
      "(0.014260523321956771, 0.0048470318904755326)\n",
      "(0.014263367463026167, 0.004855590347748958)\n",
      "(0.014266211604095564, 0.004855838297644393)\n",
      "(0.01426905574516496, 0.004865955978053658)\n",
      "(0.014271899886234358, 0.0048727836455903116)\n",
      "(0.014274744027303755, 0.0048778884060678178)\n",
      "(0.014277588168373151, 0.0049007398001357826)\n",
      "(0.014280432309442549, 0.0049014462764396562)\n",
      "(0.014283276450511945, 0.0049075440501727061)\n",
      "(0.014286120591581342, 0.0049119192147309906)\n",
      "(0.01428896473265074, 0.0049126934668635245)\n",
      "(0.014291808873720136, 0.0049141520526753977)\n",
      "(0.014294653014789533, 0.004915039909148774)\n",
      "(0.01429749715585893, 0.0049189327749845305)\n",
      "(0.01430034129692833, 0.0049296691543519377)\n",
      "(0.014303185437997726, 0.0049317016266943962)\n",
      "(0.014306029579067124, 0.0049334886202878252)\n",
      "(0.01430887372013652, 0.0049366515838659879)\n",
      "(0.014311717861205917, 0.0049514774074096166)\n",
      "(0.014314562002275315, 0.0049517711681000259)\n",
      "(0.01431740614334471, 0.004953275378497401)\n",
      "(0.014320250284414108, 0.0049550082214512856)\n",
      "(0.014323094425483504, 0.0049580379080883773)\n",
      "(0.014325938566552902, 0.0049599859974042504)\n",
      "(0.0143287827076223, 0.0049624974877697341)\n",
      "(0.014331626848691695, 0.0049643810654108741)\n",
      "(0.014334470989761093, 0.0049662074709917823)\n",
      "(0.014337315130830489, 0.0049724424909527044)\n",
      "(0.014340159271899886, 0.0049751765493864534)\n",
      "(0.014343003412969284, 0.0049755365459748608)\n",
      "(0.01434584755403868, 0.0049778640013392233)\n",
      "(0.014348691695108077, 0.0049806155158102208)\n",
      "(0.014351535836177473, 0.0049814717069870318)\n",
      "(0.014354379977246874, 0.0049858038934458924)\n",
      "(0.01435722411831627, 0.0049920096250608359)\n",
      "(0.014360068259385668, 0.0050001339324140899)\n",
      "(0.014362912400455063, 0.0050012929670621951)\n",
      "6938\n"
     ]
    }
   ],
   "source": [
    "m = n_genes\n",
    "n_sig = len(sig_genes)\n",
    "alpha = 0.05\n",
    "\n",
    "for i in range(n_sig):\n",
    "    bh = float(i+1)/m * alpha\n",
    "    geneID = bh_sorting_index[i]\n",
    "    pvalue = sig_pvalues[geneID]\n",
    "#     if i > 5000 and i < 5050:\n",
    "#         print(bh, pvalue)\n",
    "    if pvalue > bh:\n",
    "        break\n",
    "print i"
   ]
  },
  {
   "cell_type": "code",
   "execution_count": 80,
   "metadata": {
    "collapsed": false
   },
   "outputs": [
    {
     "data": {
      "text/plain": [
       "8493"
      ]
     },
     "execution_count": 80,
     "metadata": {},
     "output_type": "execute_result"
    }
   ],
   "source": [
    "m"
   ]
  },
  {
   "cell_type": "code",
   "execution_count": null,
   "metadata": {
    "collapsed": true
   },
   "outputs": [],
   "source": []
  }
 ],
 "metadata": {
  "kernelspec": {
   "display_name": "Python 2",
   "language": "python",
   "name": "python2"
  },
  "language_info": {
   "codemirror_mode": {
    "name": "ipython",
    "version": 2
   },
   "file_extension": ".py",
   "mimetype": "text/x-python",
   "name": "python",
   "nbconvert_exporter": "python",
   "pygments_lexer": "ipython2",
   "version": "2.7.13"
  }
 },
 "nbformat": 4,
 "nbformat_minor": 2
}
